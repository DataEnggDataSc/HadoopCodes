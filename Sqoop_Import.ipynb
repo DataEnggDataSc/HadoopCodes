{
  "nbformat": 4,
  "nbformat_minor": 0,
  "metadata": {
    "colab": {
      "name": "Sqoop Import.ipynb",
      "provenance": [],
      "authorship_tag": "ABX9TyMG6iwe1sgVTpJF7ocUVbZw",
      "include_colab_link": true
    },
    "kernelspec": {
      "name": "python3",
      "display_name": "Python 3"
    }
  },
  "cells": [
    {
      "cell_type": "markdown",
      "metadata": {
        "id": "view-in-github",
        "colab_type": "text"
      },
      "source": [
        "<a href=\"https://colab.research.google.com/github/DataEnggDataSc/HadoopCodes/blob/master/Sqoop_Import.ipynb\" target=\"_parent\"><img src=\"https://colab.research.google.com/assets/colab-badge.svg\" alt=\"Open In Colab\"/></a>"
      ]
    },
    {
      "cell_type": "markdown",
      "metadata": {
        "id": "PCYy80Tsbx_G",
        "colab_type": "text"
      },
      "source": [
        "## SQOOP IMPORT Command"
      ]
    },
    {
      "cell_type": "code",
      "metadata": {
        "id": "z4uK_i-Rbekn",
        "colab_type": "code",
        "colab": {}
      },
      "source": [
        "sqoop import \\\n",
        "--connect jdbc:mysql://ip-172-31-20-247/sqoopex \\\n",
        "--username sqoopuser \\\n",
        "--password NHkkP876rp \\\n",
        "--table user \\\n",
        "--target-dir sqoop_import_dir"
      ],
      "execution_count": 0,
      "outputs": []
    },
    {
      "cell_type": "markdown",
      "metadata": {
        "id": "mUo_XgHHbiLC",
        "colab_type": "text"
      },
      "source": [
        "1. Target-dir must not exist beforehand. If it exists, the command while fail with the same error. \n",
        "2. This command will create the directory while sqooping, then would put the table data inside this directory as part files. \n",
        "3. There would be no subfolder created inside target-dir with the table name, datafiles would be put directly inside target-dir."
      ]
    },
    {
      "cell_type": "code",
      "metadata": {
        "id": "wIdkGVmeb9jt",
        "colab_type": "code",
        "colab": {}
      },
      "source": [
        "sqoop import \\\n",
        "--connect jdbc:mysql://ip-172-31-20-247/sqoopex \\\n",
        "--username sqoopuser \\\n",
        "--password NHkkP876rp \\\n",
        "--table user"
      ],
      "execution_count": 0,
      "outputs": []
    },
    {
      "cell_type": "markdown",
      "metadata": {
        "id": "yWOFkEg6cJl1",
        "colab_type": "text"
      },
      "source": [
        "If target-dir is not provided, sqoop will create a directory in the current working directory with the same name as table name."
      ]
    },
    {
      "cell_type": "code",
      "metadata": {
        "id": "vLaTanRDcLIH",
        "colab_type": "code",
        "colab": {}
      },
      "source": [
        ""
      ],
      "execution_count": 0,
      "outputs": []
    }
  ]
}