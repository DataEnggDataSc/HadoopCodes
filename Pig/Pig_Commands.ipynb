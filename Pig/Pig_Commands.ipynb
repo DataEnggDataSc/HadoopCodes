{
  "nbformat": 4,
  "nbformat_minor": 0,
  "metadata": {
    "colab": {
      "name": "Pig Commands.ipynb",
      "provenance": [],
      "collapsed_sections": []
    },
    "kernelspec": {
      "name": "python3",
      "display_name": "Python 3"
    }
  },
  "cells": [
    {
      "cell_type": "markdown",
      "metadata": {
        "id": "EDjNFeliw04D",
        "colab_type": "text"
      },
      "source": [
        "## Grunt Shell Commands\n",
        "\n",
        "**1. sh**\\\n",
        "Using sh command, we can invoke any shell commands from the Grunt shell.\n",
        "Example, \"sh ls\" to list files.\\\n",
        "**2. fs**\\\n",
        "Using the fs command, we can invoke any FsShell commands from the Grunt shell. Example, \"fs -ls\"\\\n",
        "**3. clear**\\\n",
        "clear the screen of the Grunt shell.\\\n",
        "**4. help**\\\n",
        "gives you a list of Pig commands or Pig properties.\\\n",
        "**5. history**\\\n",
        "Displays a list of statements executed / used so far since the Grunt sell is invoke\\\n",
        "**6. set**\\\n",
        "Show/assign values to keys used in Pig. Using this command, you can set values to the following keys - default_parallel, debug, job.name, job.priority, stream.skippath.\\\n",
        "**7. quit**\\\n",
        "Quits shell.\\\n",
        "**8. kill**\\\n",
        "kill a job from the Grunt shell using this command.\\\n",
        "Example, `grunt> kill Jb_001`\\\n",
        "**9. exec/run**\\\n",
        "Execute Pig scripts from the Grunt shell. Example, \\\n",
        "`grunt> exec sample_script.pig`\\\n",
        "`grunt> run sample_script.pig1`\\\n",
        "**The difference between exec and the run command is that if we use run, the statements from the script are available in the command history.**"
      ]
    },
    {
      "cell_type": "markdown",
      "metadata": {
        "id": "f6TJ1_8czGLJ",
        "colab_type": "text"
      },
      "source": [
        "### Pig Latin – Data types\n",
        "\n",
        "int\t, long, float, double, chararray, Bytearray, Boolean, Datetime, Biginteger, Bigdecimal\n",
        "\n",
        "Complex datatype ::\\\n",
        "**Tuple** - A tuple is an ordered set of fields. Example : (raja, 30)\\\n",
        "**Bag** - A bag is a collection of tuples. Example : {(raju,30),(Mohhammad,45)}\\\n",
        "**Map** - A Map is a set of key-value pairs. Example : [ ‘name’#’Raju’, ‘age’#30]\n",
        "\n",
        "\\\n",
        "### Pig Latin – Comparison Operators\n",
        "\n",
        "==, !=, <, >, <=, >=, matches\n",
        "\n",
        "\\\n",
        "### Pig Latin – Type Construction Operators\n",
        "\n",
        "() Tuple constructor operator − This operator is used to construct a tuple. Eg, (Raju, 30)\\\n",
        "{} Bag constructor operator − This operator is used to construct a bag. Eg, (Raju, 30), (Mohammad, 45)}\\\n",
        "[] Map constructor operator − This operator is used to construct a tuple. Eg, [name#Raja, age#30]\n",
        "\n",
        "\\\n",
        "## Pig Latin – Relational Operations\n",
        "**LOAD** - \tTo Load the data from the file system (local/HDFS) into a relation.\\\n",
        "**STORE**\t- To save a relation to the file system (local/HDFS).\\\n",
        "**FILTER** - \tTo remove unwanted rows from a relation.\\\n",
        "**DISTINCT** -  To remove duplicate rows from a relation.\\\n",
        "**FOREACH, GENERATE** - To generate data transformations based on columns of data.\\\n",
        "**STREAM** - To transform a relation using an external program.\\\n",
        "**JOIN** - To join two or more relations.\\\n",
        "**COGROUP** - To group the data in two or more relations.\\\n",
        "**GROUP** - To group the data in a single relation.\\\n",
        "**CROSS** - To create the cross product of two or more relations.\\\n",
        "**ORDER** - To arrange a relation in a sorted order based on one or more fields (ascending or descending).\\\n",
        "**LIMIT** - To get a limited number of tuples from a relation.\\\n",
        "**UNION** - To combine two or more relations into a single relation.\\\n",
        "**SPLIT** - To split a single relation into two or more relations.\\\n",
        "**DUMP** - To print the contents of a relation on the console.\\\n",
        "**DESCRIBE** - To describe the schema of a relation.\\\n",
        "**EXPLAIN** - To view the logical, physical, or MapReduce execution plans to compute a relation.\\\n",
        "**ILLUSTRATE** - To view the step-by-step execution of a series of statements.\n"
      ]
    },
    {
      "cell_type": "markdown",
      "metadata": {
        "id": "4UQ7KWv20WCB",
        "colab_type": "text"
      },
      "source": [
        "## Reading Data from HDFS\n",
        "\n",
        "**Relation_name = LOAD 'Input file path' USING function as schema;** \\\n",
        "\n",
        "function −> We have to choose a function from the set of load functions provided by Apache Pig (BinStorage, JsonLoader, PigStorage, TextLoader))\\\n",
        "Schema −> We have to define the schema of the data. We can define the required schema as follows − `(column1 : data type, column2 : data type, column3 : data type);` \\"
      ]
    },
    {
      "cell_type": "code",
      "metadata": {
        "id": "dtObKuS4wxw2",
        "colab_type": "code",
        "colab": {}
      },
      "source": [
        "pig -x mapreduce\n",
        "\n",
        "student = LOAD '/user/dataenggdatascfreelance1247/pig_data/student_data.txt'\n",
        "USING PigStorage(',')\n",
        "AS ( id:int, firstname:chararray, lastname:chararray, phone:chararray,city:chararray);"
      ],
      "execution_count": 0,
      "outputs": []
    },
    {
      "cell_type": "markdown",
      "metadata": {
        "id": "C40nNono76UZ",
        "colab_type": "text"
      },
      "source": [
        "## Storing Data into HDFS\n",
        "\n",
        "**STORE Relation_name INTO ' required_directory_path ' [USING function];** \\\n",
        "If the output directory already exists, it will complain about the same and error out.\n"
      ]
    },
    {
      "cell_type": "code",
      "metadata": {
        "id": "pHB8N_r5793g",
        "colab_type": "code",
        "colab": {}
      },
      "source": [
        "STORE student INTO '/user/dataenggdatascfreelance1247/pig_data/pig_output' USING PigStorage (',');"
      ],
      "execution_count": 0,
      "outputs": []
    },
    {
      "cell_type": "markdown",
      "metadata": {
        "id": "aWEIfvhv-Eio",
        "colab_type": "text"
      },
      "source": [
        "## Diagnostic Operators\n",
        "\n",
        "The load statement will simply load the data into the specified relation in Apache Pig. To verify the execution of the Load statement, you have to use the Diagnostic Operators. Pig Latin provides four different types of diagnostic operators −\n",
        "\n",
        "**Dump**  - display the content of the relation on the screen.\\\n",
        "**Describe** - view the schema of a relation. \\\n",
        "**Explain** - display the logical, physical, and mapReduce execution plans of a relation.\\\n",
        "**Illustrate** - step-by-step execution of a sequence of statements.\n",
        "\n"
      ]
    },
    {
      "cell_type": "code",
      "metadata": {
        "id": "tntxZY6g_tu2",
        "colab_type": "code",
        "colab": {}
      },
      "source": [
        "dump student;\n",
        "describe student;\n",
        "explain student;\n",
        "illustrate student;"
      ],
      "execution_count": 0,
      "outputs": []
    },
    {
      "cell_type": "markdown",
      "metadata": {
        "id": "Ct3VXYm0A1Cs",
        "colab_type": "text"
      },
      "source": [
        "## Group Operator\n",
        "\n",
        "Group_data = GROUP Relation_name BY key;\\\n",
        "Group_date is another relation which is generated by the group operator. It can be viewed using dump operator.\n",
        "\n",
        "\n",
        "resulting schema has two columns −\\\n",
        "One is the key, by which we have grouped the relation.\\\n",
        "The other is a bag, which contains the group of tuples, original records with the respective key.\n"
      ]
    },
    {
      "cell_type": "code",
      "metadata": {
        "id": "-cM2hapDBlRD",
        "colab_type": "code",
        "colab": {}
      },
      "source": [
        "student_details = LOAD '/user/dataenggdatascfreelance1247/pig_data/student_details.txt' \n",
        "USING PigStorage(',')\n",
        "AS (id:int, firstname:chararray, lastname:chararray, age:int, phone:chararray, city:chararray);\n",
        "\n",
        "group_student_data = GROUP student_details BY age;\n",
        "DUMP group_student_data;\n",
        "DESCRIBE group_student_data;"
      ],
      "execution_count": 0,
      "outputs": []
    },
    {
      "cell_type": "markdown",
      "metadata": {
        "id": "nyBMEq9vDvuX",
        "colab_type": "text"
      },
      "source": [
        "### Grouping by Multiple Columns"
      ]
    },
    {
      "cell_type": "code",
      "metadata": {
        "id": "GUZTRQ5GDx2z",
        "colab_type": "code",
        "colab": {}
      },
      "source": [
        "group_multiple = GROUP student_details BY (age, city);\n",
        "DUMP group_multiple;"
      ],
      "execution_count": 0,
      "outputs": []
    },
    {
      "cell_type": "markdown",
      "metadata": {
        "id": "ZZIdlSBlFJJv",
        "colab_type": "text"
      },
      "source": [
        "### Group All"
      ]
    },
    {
      "cell_type": "code",
      "metadata": {
        "id": "kGCf_1J5FIuS",
        "colab_type": "code",
        "colab": {}
      },
      "source": [
        "group_all = GROUP student_details All;\n",
        "DUMP group_all;"
      ],
      "execution_count": 0,
      "outputs": []
    },
    {
      "cell_type": "markdown",
      "metadata": {
        "id": "hv17bm4cFfbE",
        "colab_type": "text"
      },
      "source": [
        "### Cogroup Operator\n",
        "**GROUP** operator is normally used with one relation, while the **COGROUP** operator is used in statements involving two or more relations.\\\n",
        "The cogroup operator groups the tuples from each relation according to key, where each group depicts a particular key value."
      ]
    },
    {
      "cell_type": "code",
      "metadata": {
        "id": "LgJocyLYF1nm",
        "colab_type": "code",
        "colab": {}
      },
      "source": [
        "student_details = LOAD '/user/dataenggdatascfreelance1247/pig_data/student_details.txt' \n",
        "USING PigStorage(',')\n",
        "AS (id:int, firstname:chararray, lastname:chararray, age:int, phone:chararray, city:chararray);\n",
        "\n",
        "employee_details = LOAD '/user/dataenggdatascfreelance1247/pig_data/employee_details.txt'\n",
        "USING PigStorage(',')\n",
        "AS (id:int, name:chararray, age:int, city:chararray);\n",
        "\n",
        "cogroup_data = COGROUP student_details by age, employee_details BY age;\n",
        "DUMP cogroup_data;"
      ],
      "execution_count": 0,
      "outputs": []
    },
    {
      "cell_type": "markdown",
      "metadata": {
        "id": "ttnY9FnBZcqO",
        "colab_type": "text"
      },
      "source": [
        "## Join Operator\n",
        "\n",
        "Joins can be of the following types −\n",
        "\n",
        "- Self-join\n",
        "- Inner-join\n",
        "- Outer-join − left join, right join, and full join\n"
      ]
    },
    {
      "cell_type": "code",
      "metadata": {
        "id": "D5J9n61mbBQt",
        "colab_type": "code",
        "colab": {}
      },
      "source": [
        "customers = LOAD '/user/dataenggdatascfreelance1247/pig_data/customers.txt' USING PigStorage(',')\n",
        "AS (id:int, name:chararray, age:int, address:chararray, salary:int);\n",
        "\n",
        "orders = LOAD '/user/dataenggdatascfreelance1247/pig_data/orders.txt' USING PigStorage(',')\n",
        "AS (oid:int, date:chararray, customer_id:int, amount:int);"
      ],
      "execution_count": 0,
      "outputs": []
    },
    {
      "cell_type": "markdown",
      "metadata": {
        "id": "7kLLoLeLbvVE",
        "colab_type": "text"
      },
      "source": [
        "### Self - join\n",
        "\n",
        "Self-join is used to join a table with itself as if the table were two relations, temporarily renaming at least one relation. In Pig, to perform self-join, we will load the same data multiple times, under different aliases (names)."
      ]
    },
    {
      "cell_type": "code",
      "metadata": {
        "id": "jsZZmEC9bwQd",
        "colab_type": "code",
        "colab": {}
      },
      "source": [
        "customer1 = LOAD '/user/dataenggdatascfreelance1247/pig_data/customers.txt' USING PigStorage(',')\n",
        "AS (id:int, name:chararray, age:int, address:chararray, salary:int);\n",
        "\n",
        "customer2 = LOAD '/user/dataenggdatascfreelance1247/pig_data/customers.txt' USING PigStorage(',')\n",
        "AS (id:int, name:chararray, age:int, address:chararray, salary:int);\n",
        "\n",
        "customers3 = JOIN customers1 BY id, customers2 BY id;\n",
        "\n",
        "DUMP customers3;"
      ],
      "execution_count": 0,
      "outputs": []
    },
    {
      "cell_type": "markdown",
      "metadata": {
        "id": "A3i5hlgrdPi3",
        "colab_type": "text"
      },
      "source": [
        "### Inner Join\n",
        "\n",
        "It is also referred to as equijoin. An inner join returns rows when there is a match in both tables. It creates a new relation by combining column values of two relations (say A and B) based upon the join-predicate."
      ]
    },
    {
      "cell_type": "code",
      "metadata": {
        "id": "hRFns8oWd1UQ",
        "colab_type": "code",
        "colab": {}
      },
      "source": [
        "coustomer_orders = JOIN customers BY id, orders BY customer_id;\n",
        "DUMP coustomer_orders;"
      ],
      "execution_count": 0,
      "outputs": []
    },
    {
      "cell_type": "markdown",
      "metadata": {
        "id": "38A7hT_dhVmd",
        "colab_type": "text"
      },
      "source": [
        "### Outer Join\n",
        "Unlike inner join, outer join returns all the rows from at least one of the relations. An outer join operation is carried out in three ways −\n",
        "\n",
        "- Left outer join\n",
        "- Right outer join\n",
        "- Full outer join"
      ]
    },
    {
      "cell_type": "markdown",
      "metadata": {
        "id": "xOhdHbr6hwIW",
        "colab_type": "text"
      },
      "source": [
        "### Left Outer Join\n",
        "The left outer Join operation returns all rows from the left table, even if there are no matches in the right relation."
      ]
    },
    {
      "cell_type": "code",
      "metadata": {
        "colab_type": "code",
        "id": "5hH-LAN_hyjW",
        "colab": {}
      },
      "source": [
        "outer_left = JOIN customers BY id LEFT OUTER, orders BY customer_id;\n",
        "DUMP outer_left;"
      ],
      "execution_count": 0,
      "outputs": []
    },
    {
      "cell_type": "markdown",
      "metadata": {
        "id": "-2fXT0WejNLx",
        "colab_type": "text"
      },
      "source": [
        "### Right Outer Join\n",
        "The right outer join operation returns all rows from the right table, even if there are no matches in the left table."
      ]
    },
    {
      "cell_type": "code",
      "metadata": {
        "id": "NkxH8nqBhlRn",
        "colab_type": "code",
        "colab": {}
      },
      "source": [
        "outer_right = JOIN customers BY id RIGHT OUTER, orders BY customer_id;\n",
        "DUMP outer_right;"
      ],
      "execution_count": 0,
      "outputs": []
    },
    {
      "cell_type": "markdown",
      "metadata": {
        "id": "AdmNSogekU3g",
        "colab_type": "text"
      },
      "source": [
        "### Full Outer Join\n",
        "it is as good as a cross join between relations, where all matching rows from left and right relation is fetched, alongwith all the non-matching rows from both the relations as well."
      ]
    },
    {
      "cell_type": "code",
      "metadata": {
        "id": "Ty3-jGrdkinw",
        "colab_type": "code",
        "colab": {}
      },
      "source": [
        "outer_full = JOIN customers BY id FULL OUTER, orders BY customer_id;\n",
        "DUMP outer_full;"
      ],
      "execution_count": 0,
      "outputs": []
    },
    {
      "cell_type": "markdown",
      "metadata": {
        "id": "jzWnNv00k-WO",
        "colab_type": "text"
      },
      "source": [
        "### Using Multiple Keys\n",
        "perform JOIN operation using multiple keys.\\\n",
        "Syntax - `Relation3_name = JOIN Relation2_name BY (key1, key2), Relation3_name BY (key1, key2);`"
      ]
    },
    {
      "cell_type": "code",
      "metadata": {
        "id": "36eDbmPblLcL",
        "colab_type": "code",
        "colab": {}
      },
      "source": [
        "employee = LOAD '/user/dataenggdatascfreelance1247/pig_data/employee.txt' USING PigStorage(',')\n",
        "AS (id:int, firstname:chararray, lastname:chararray, age:int, designation:chararray, jobid:int);\n",
        "  \n",
        "employee_contact = LOAD '/user/dataenggdatascfreelance1247/pig_data/employee_contact.txt' USING PigStorage(',') \n",
        "AS (id:int, phone:chararray, email:chararray, city:chararray, jobid:int);\n",
        "\n",
        "emp = JOIN employee BY (id,jobid), employee_contact BY (id,jobid);\n",
        "DUMP emp;"
      ],
      "execution_count": 0,
      "outputs": []
    },
    {
      "cell_type": "markdown",
      "metadata": {
        "id": "IED4swyHnKlY",
        "colab_type": "text"
      },
      "source": [
        "### Cross Operator\n",
        "Computes the cross-product of two or more relations."
      ]
    },
    {
      "cell_type": "code",
      "metadata": {
        "id": "ltIglYDwofPK",
        "colab_type": "code",
        "colab": {}
      },
      "source": [
        "customers = LOAD '/user/dataenggdatascfreelance1247/pig_data/customers.txt' USING PigStorage(',')\n",
        "AS (id:int, name:chararray, age:int, address:chararray, salary:int);\n",
        "\n",
        "orders = LOAD '/user/dataenggdatascfreelance1247/pig_data/orders.txt' USING PigStorage(',')\n",
        "AS (oid:int, date:chararray, customer_id:int, amount:int);\n",
        "\n",
        "cross_data = CROSS customers, orders;\n",
        "DUMP cross_data;"
      ],
      "execution_count": 0,
      "outputs": []
    },
    {
      "cell_type": "markdown",
      "metadata": {
        "id": "gPYHit9WoiuY",
        "colab_type": "text"
      },
      "source": [
        "## Union Operator\n",
        "\n",
        "The UNION operator of Pig Latin is used to merge the content of two relations. **To perform UNION operation on two relations, their columns and domains must be identical.**"
      ]
    },
    {
      "cell_type": "code",
      "metadata": {
        "id": "Z3Fna6rXokkF",
        "colab_type": "code",
        "colab": {}
      },
      "source": [
        "student1 = LOAD '/user/dataenggdatascfreelance1247/pig_data/student_data1.txt' USING PigStorage(',') \n",
        "AS (id:int, firstname:chararray, lastname:chararray, phone:chararray, city:chararray); \n",
        " \n",
        "student2 = LOAD '/user/dataenggdatascfreelance1247/pig_data/student_data2.txt' USING PigStorage(',') \n",
        "AS (id:int, firstname:chararray, lastname:chararray, phone:chararray, city:chararray);\n",
        "\n",
        "student = UNION student1, student2;\n",
        "DUMP student;\n"
      ],
      "execution_count": 0,
      "outputs": []
    },
    {
      "cell_type": "markdown",
      "metadata": {
        "id": "BBtxSaKCtuFh",
        "colab_type": "text"
      },
      "source": [
        "## Split Operator\n",
        "\n",
        "SPLIT operator is used to split a relation into two or more relations."
      ]
    },
    {
      "cell_type": "code",
      "metadata": {
        "id": "lgbTTQCztvbZ",
        "colab_type": "code",
        "colab": {}
      },
      "source": [
        "student_details = LOAD '/user/dataenggdatascfreelance1247/pig_data/student_details.txt' USING PigStorage(',')\n",
        "AS (id:int, firstname:chararray, lastname:chararray, age:int, phone:chararray, city:chararray);\n",
        "\n",
        "SPLIT student_details into student_details1 if age<23, student_details2 if (age>=23 and age<25);\n",
        "DUMP student_details1;\n",
        "DUMP student_details2;"
      ],
      "execution_count": 0,
      "outputs": []
    },
    {
      "cell_type": "markdown",
      "metadata": {
        "id": "TGmTueiHVQk6",
        "colab_type": "text"
      },
      "source": [
        "## Filter Operator\n",
        "\n",
        "FILTER operator is used to select the required tuples from a relation based on a condition"
      ]
    },
    {
      "cell_type": "code",
      "metadata": {
        "id": "Dq9mIYFFVSMG",
        "colab_type": "code",
        "colab": {}
      },
      "source": [
        "student_details = LOAD '/user/dataenggdatascfreelance1247/pig_data/student_details.txt' USING PigStorage(',')\n",
        "AS (id:int, firstname:chararray, lastname:chararray, age:int, phone:chararray, city:chararray);\n",
        "\n",
        "filter_data = FILTER student_details BY city == 'Chennai';\n",
        "DUMP filter_data;"
      ],
      "execution_count": 0,
      "outputs": []
    },
    {
      "cell_type": "markdown",
      "metadata": {
        "id": "KFg31UF7WJgY",
        "colab_type": "text"
      },
      "source": [
        "## Distinct Operator\n",
        "\n",
        "Used to remove redundant (duplicate) tuples from a relation"
      ]
    },
    {
      "cell_type": "code",
      "metadata": {
        "id": "vVPzHtabWPbS",
        "colab_type": "code",
        "colab": {}
      },
      "source": [
        "student_details = LOAD '/user/dataenggdatascfreelance1247/pig_data/student_details.txt' USING PigStorage(',')\n",
        "AS (id:int, firstname:chararray, lastname:chararray, age:int, phone:chararray, city:chararray);\n",
        "\n",
        "distinct_data = DISTINCT student_details;\n",
        "DUMP distinct_data;"
      ],
      "execution_count": 0,
      "outputs": []
    },
    {
      "cell_type": "markdown",
      "metadata": {
        "id": "pIpMw5lRaYKw",
        "colab_type": "text"
      },
      "source": [
        "## Foreach Operator"
      ]
    },
    {
      "cell_type": "code",
      "metadata": {
        "id": "O_XC9t-LaZEP",
        "colab_type": "code",
        "colab": {}
      },
      "source": [
        "student_details = LOAD '/user/dataenggdatascfreelance1247/pig_data/student_details.txt' USING PigStorage(',')\n",
        "AS (id:int, firstname:chararray, lastname:chararray, age:int, phone:chararray, city:chararray);\n",
        "\n",
        "foreach_data = FOREACH student_details GENERATE id,age,city;\n",
        "DUMP foreach_data;\n",
        "\n"
      ],
      "execution_count": 0,
      "outputs": []
    },
    {
      "cell_type": "markdown",
      "metadata": {
        "id": "hB_BTW8im6pw",
        "colab_type": "text"
      },
      "source": [
        "## Use Foreach and Distinct to fetch distinct values of a column"
      ]
    },
    {
      "cell_type": "code",
      "metadata": {
        "id": "dTNqK0mMnBcO",
        "colab_type": "code",
        "colab": {}
      },
      "source": [
        "ages = FOREACH student_details GENERATE age;\n",
        "distinct_age = DISTINCT ages;"
      ],
      "execution_count": 0,
      "outputs": []
    },
    {
      "cell_type": "markdown",
      "metadata": {
        "id": "sN7TG2ghn3nT",
        "colab_type": "text"
      },
      "source": [
        "## Use GROUP BY and FOREACH to fetch distinct values of a column"
      ]
    },
    {
      "cell_type": "code",
      "metadata": {
        "id": "tEPYJPkJn_he",
        "colab_type": "code",
        "colab": {}
      },
      "source": [
        "grp_student_by_age = GROUP student_details BY age;\n",
        "distinct_age = FOREACH grp_student_by_age GENERATE $0;"
      ],
      "execution_count": 0,
      "outputs": []
    },
    {
      "cell_type": "markdown",
      "metadata": {
        "id": "Dv0FLXabhAaE",
        "colab_type": "text"
      },
      "source": [
        "## Some examples of Foreach-Generate\n",
        "\n",
        "A file data.txt has following data - \\\n",
        "id,value\\\n",
        "--------\\\n",
        "1,1\\\n",
        "1,2\\\n",
        "2,3\\\n",
        "3,4\\\n",
        "3,5\\\n",
        "3,6\\\n",
        "3,7"
      ]
    },
    {
      "cell_type": "code",
      "metadata": {
        "id": "Mra6RjWRhL0n",
        "colab_type": "code",
        "colab": {}
      },
      "source": [
        "data = data = LOAD '/user/dataenggdatascfreelance1247/pig_data/data.txt' USING PigStorage(',') AS (id:int,value:int);\n",
        "datagrp = GROUP data BY id;\n",
        "datasum = FOREACH datagrp GENERATE group,SUM(data.value);\n",
        "DUMP datasum;\n",
        "\n",
        "student_details = LOAD '/user/dataenggdatascfreelance1247/pig_data/student_details.txt' USING PigStorage(',') AS (id:int, firstname:chararray, lastname:chararray, age:int, phone:chararray, city:chararray, gpa:int);\n",
        "student_fullname = FOREACH student_details GENERATE id,CONCAT(firstname,' ',lastname),age;\n",
        "DUMP student_fullname;"
      ],
      "execution_count": 0,
      "outputs": []
    },
    {
      "cell_type": "markdown",
      "metadata": {
        "id": "nXe48vvZjL5u",
        "colab_type": "text"
      },
      "source": [
        "## Order By"
      ]
    },
    {
      "cell_type": "code",
      "metadata": {
        "id": "p1mS-MNllNY6",
        "colab_type": "code",
        "colab": {}
      },
      "source": [
        "student_details = LOAD '/user/dataenggdatascfreelance1247/pig_data/student_details.txt' USING PigStorage(',') AS (id:int, firstname:chararray, lastname:chararray, age:int, phone:chararray, city:chararray, gpa:int);\n",
        "order_by_age = ORDER student_details BY age DESC;\n",
        "DUMP order_by_age;"
      ],
      "execution_count": 0,
      "outputs": []
    },
    {
      "cell_type": "markdown",
      "metadata": {
        "id": "e9yBhia8-Mtv",
        "colab_type": "text"
      },
      "source": [
        "## Limit Operator"
      ]
    },
    {
      "cell_type": "code",
      "metadata": {
        "id": "KcVs5nEG-Z50",
        "colab_type": "code",
        "colab": {}
      },
      "source": [
        "limit_data = LIMIT student_details 4;\n",
        "Dump limit_data; "
      ],
      "execution_count": 0,
      "outputs": []
    },
    {
      "cell_type": "markdown",
      "metadata": {
        "id": "PGs83NHS-Wvp",
        "colab_type": "text"
      },
      "source": [
        "## Eval Functions\n",
        "- AVG()\n",
        "- BagToString()\n",
        "- CONCAT()\n",
        "- COUNT()\n",
        "- COUNT_STAR()\n",
        "- DIFF()\n",
        "- IsEmpty()\n",
        "- MAX()\n",
        "- MIN()\n",
        "- PluckTuple()\n",
        "- SIZE()\n",
        "- SUBTRACT()\n",
        "- SUM()\n",
        "- TOKENIZE()"
      ]
    },
    {
      "cell_type": "markdown",
      "metadata": {
        "id": "GLW8IIMi_VuX",
        "colab_type": "text"
      },
      "source": [
        "###AVG()\n",
        "\n",
        "- To get the global average value, we need to perform a Group All operation, and calculate the average value using the AVG() function.\n",
        "\n",
        "- To get the average value of a group, we need to group it using the Group By operator and proceed with the average function."
      ]
    },
    {
      "cell_type": "code",
      "metadata": {
        "id": "jYoYAyVK-VlY",
        "colab_type": "code",
        "colab": {}
      },
      "source": [
        "# Global average gpa of all the students\n",
        "student_details = LOAD '/user/dataenggdatascfreelance1247/pig_data/student_details.txt' USING PigStorage(',') AS (id:int, firstname:chararray, lastname:chararray, age:int, phone:chararray, city:chararray, gpa:int);\n",
        "student_group_all = Group student_details All;\n",
        "\n",
        "student_gpa_avg = FOREACH student_group_all  GENERATE AVG(student_details.gpa);\n",
        "DUMP student_gpa_avg;\n",
        "\n",
        "# Average gpa based on age groups\n",
        "student_groupby_age = Group student_details BY age;\n",
        "\n",
        "student_agegroup_gpa_avg = FOREACH student_groupby_age GENERATE group,AVG(student_details.gpa);\n",
        "DUMP student_agegroup_gpa_avg;"
      ],
      "execution_count": 0,
      "outputs": []
    },
    {
      "cell_type": "markdown",
      "metadata": {
        "id": "bqv4T9zNBYCo",
        "colab_type": "text"
      },
      "source": [
        "### BagToString()\n",
        "\n",
        "Concatenate the elements of a bag into a string. While concatenating, we can place a delimiter between these values (optional).\n",
        "\n",
        "Generally bags are disordered and can be arranged by using ORDER BY operator."
      ]
    },
    {
      "cell_type": "code",
      "metadata": {
        "id": "dJ_KvzN3Be_2",
        "colab_type": "code",
        "colab": {}
      },
      "source": [
        "dob = LOAD '/user/dataenggdatascfreelance1247/pig_data/dateofbirth.txt' USING PigStorage(',')\n",
        "AS (day:int, month:int, year:int);\n",
        "\n",
        "group_dob = Group dob All;\n",
        "\n",
        "dob_string = foreach group_dob Generate BagToString(dob);\n",
        "DUMP dob_string;"
      ],
      "execution_count": 0,
      "outputs": []
    },
    {
      "cell_type": "markdown",
      "metadata": {
        "id": "lDpkH4knETbx",
        "colab_type": "text"
      },
      "source": [
        "### CONCAT()\n",
        "\n",
        "Concatenate two or more expressions **of the same type**."
      ]
    },
    {
      "cell_type": "code",
      "metadata": {
        "id": "6cbvtYEVETFq",
        "colab_type": "code",
        "colab": {}
      },
      "source": [
        "student_details = LOAD '/user/dataenggdatascfreelance1247/pig_data/student_details.txt' USING PigStorage(',')\n",
        "AS (id:int, firstname:chararray, lastname:chararray, age:int, phone:chararray, city:chararray, gpa:int);\n",
        "\n",
        "student_name_concat = foreach student_details Generate CONCAT (firstname,' ',lastname);\n",
        "DUMP student_name_concat;"
      ],
      "execution_count": 0,
      "outputs": []
    },
    {
      "cell_type": "markdown",
      "metadata": {
        "id": "dnehgyxwF0Hx",
        "colab_type": "text"
      },
      "source": [
        "### COUNT()\n",
        "\n",
        "- To get the global count value (total number of tuples in a bag), we need to perform a Group All operation, and calculate the count value using the COUNT() function.\n",
        "\n",
        "- To get the count value of a group (Number of tuples in a group), we need to group it using the Group By operator and proceed with the count function.\n",
        "\n",
        "- the COUNT() function ignores (will not count) the tuples having a NULL value in the FIRST FIELD."
      ]
    },
    {
      "cell_type": "code",
      "metadata": {
        "id": "mbeBhr-kF47J",
        "colab_type": "code",
        "colab": {}
      },
      "source": [
        "student_details = LOAD '/user/dataenggdatascfreelance1247/pig_data/student_details.txt' USING PigStorage(',') AS (id:int, firstname:chararray, lastname:chararray, age:int, phone:chararray, city:chararray, gpa:int);\n",
        "\n",
        "student_group_all = Group student_details All;\n",
        "\n",
        "student_count = foreach student_group_all  Generate COUNT(student_details.gpa);\n",
        "DUMP student_count;"
      ],
      "execution_count": 0,
      "outputs": []
    },
    {
      "cell_type": "markdown",
      "metadata": {
        "id": "GQ6ulE3XHvvG",
        "colab_type": "text"
      },
      "source": [
        "### COUNT_STAR()\n",
        "\n",
        "- To get the global count value (total number of tuples in a bag), we need to perform a Group All operation, and calculate the count_star value using the COUNT_STAR() function.\n",
        "- To get the count value of a group (Number of tuples in a group), we need to group it using the Group By operator and proceed with the count_star function.\n",
        "- While counting the elements, the COUNT_STAR() function includes the NULL values.\\\n",
        "\n",
        "If the input file looks like - \n",
        "\n",
        ", , , , , , ,\n",
        "\n",
        "001,Rajiv,Reddy,21,9848022337,Hyderabad,89 \n",
        "002,siddarth,Battacharya,22,9848022338,Kolkata,78 \n",
        "003,Rajesh,Khanna,22,9848022339,Delhi,90 \n",
        "004,Preethi,Agarwal,21,9848022330,Pune,93 \n",
        "005,Trupthi,Mohanthy,23,9848022336,Bhuwaneshwar,75 \n",
        "006,Archana,Mishra,23,9848022335,Chennai,87 \n",
        "007,Komal,Nayak,24,9848022334,trivendram,83 \n",
        "008,Bharathi,Nambiayar,24,9848022333,Chennai,72\n",
        "\n",
        "**Then COUNT() for above relation will show 8, while COUNT_STAR() will show 9.**\n",
        "\n"
      ]
    },
    {
      "cell_type": "markdown",
      "metadata": {
        "id": "T6jKMDM_mjFa",
        "colab_type": "text"
      },
      "source": [
        "## DIFF()\n",
        "\n",
        "- The DIFF() function is used to compare two bags (fields) in a tuple. It takes two fields of a tuple as input and matches them. If they match, it returns an empty bag. If they do not match, it finds the elements that exist in one field (bag) and not found in the other, and returns these elements by wrapping them within a bag.\n",
        "\n",
        "- Generally the DIFF() function compares two bags in a tuple. Given below is its example, here we create two relations, cogroup them which creates tuples with bags inside them, and calculate the difference between them.\n",
        "\n",
        "- The diff_data relation will have an empty tuple if the records in emp_bonus and emp_sales match. In other cases, it will hold tuples from both the relations (tuples that differ).\n"
      ]
    },
    {
      "cell_type": "code",
      "metadata": {
        "id": "9R02I92_IdGe",
        "colab_type": "code",
        "colab": {}
      },
      "source": [
        "emp_sales = LOAD '/user/dataenggdatascfreelance1247/pig_data/emp_sales.txt' USING PigStorage(',') AS (sno:int, name:chararray, age:int, salary:int, dept:chararray);\n",
        "\t\n",
        "emp_bonus = LOAD '/user/dataenggdatascfreelance1247/pig_data/emp_bonus.txt' USING PigStorage(',') AS (sno:int, name:chararray, age:int, salary:int, dept:chararray);\n",
        "\n",
        "cogroup_data = COGROUP emp_sales by sno, emp_bonus by sno;\n",
        "DUMP cogroup_data;\n",
        "\n",
        "diff_data = FOREACH cogroup_data GENERATE DIFF(emp_sales,emp_bonus);\n",
        "DUMP diff_data;"
      ],
      "execution_count": 0,
      "outputs": []
    },
    {
      "cell_type": "markdown",
      "metadata": {
        "id": "R0tbXum2qdVJ",
        "colab_type": "text"
      },
      "source": [
        "## IsEmpty()\n",
        "\n",
        "-  IsEmpty() function of Pig Latin is used to check if a bag or map is empty.\n",
        "\n",
        "- The COGROUP operator groups the tuples from each relation according to age. Each group depicts a particular age value. The 1st tuple of the result, it is grouped by age 22. And it contains two bags, the first bag holds all the tuples from the first relation (emp_sales in this case) having age 22, and the second bag contains all the tuples from the second relation (emp_bonus in this case) having age 22. The group for age 30, does not have any tuple inside first bag from relation emp_sales. Hence IsEmpty() returns this group for age 30."
      ]
    },
    {
      "cell_type": "code",
      "metadata": {
        "id": "U-XPNsZoyWNJ",
        "colab_type": "code",
        "colab": {}
      },
      "source": [
        "emp_sales = LOAD '/user/dataenggdatascfreelance1247/pig_data/emp_sales.txt' USING PigStorage(',') AS (sno:int, name:chararray, age:int, salary:int, dept:chararray);\n",
        "\t\n",
        "emp_bonus = LOAD '/user/dataenggdatascfreelance1247/pig_data/emp_bonus.txt' USING PigStorage(',') AS (sno:int, name:chararray, age:int, salary:int, dept:chararray);\n",
        "\n",
        "cogroup_data = COGROUP emp_sales by age, emp_bonus by age;\n",
        "DUMP cogroup_data;\n",
        "\n",
        "isempty_data = filter cogroup_data by IsEmpty(emp_sales);\n",
        "DUMP isempty_data; "
      ],
      "execution_count": 0,
      "outputs": []
    },
    {
      "cell_type": "markdown",
      "metadata": {
        "id": "vB01_wrYzHyS",
        "colab_type": "text"
      },
      "source": [
        "## MAX() / MIN()\n",
        "\n",
        "The MAX()/MIN() function is used to calculate the highest/lowest value for a column (numeric values or chararrays) in a single-column bag. While calculating the maximum/minimum value, the Max()/Min() function ignores the NULL values.\n",
        "\n",
        "- To get the global maximum/minimum value, we need to perform a Group All operation, and calculate the maximum/minimum value using the MAX()/MIN() function.\n",
        "\n",
        "- To get the maximum/minimum value of a group, we need to group it using the Group By operator and proceed with the maximum/minimum function.\n",
        "\n",
        "### Calculating the Maximum GPA of all students\n",
        "\n",
        "Group the relation student_details using the Group All operator. Calculate the global maximum/minimum of GPA, i.e., maximum/minimum among the GPA values of all the students using the MAX()/MIN() function."
      ]
    },
    {
      "cell_type": "code",
      "metadata": {
        "id": "mfRMKn8zqlIM",
        "colab_type": "code",
        "colab": {}
      },
      "source": [
        "student_details = LOAD '/user/dataenggdatascfreelance1247/pig_data/student_details.txt' USING PigStorage(',') AS (id:int, firstname:chararray, lastname:chararray, age:int, phone:chararray, city:chararray, gpa:int);\n",
        "\n",
        "student_group_all = Group student_details All;\n",
        "DUMP student_group_all;\n",
        "\n",
        "student_gpa_max = foreach student_group_all  Generate MAX(student_details.gpa);\n",
        "DUMP student_gpa_max;"
      ],
      "execution_count": 0,
      "outputs": []
    },
    {
      "cell_type": "markdown",
      "metadata": {
        "id": "w4HNvd_31htp",
        "colab_type": "text"
      },
      "source": [
        "### Calculating the Maximum GPA agewise\n",
        "Group the relation student_details using the age. Calculate the maximum of GPA for each group, i.e., maximum among the GPA values of all the students belonging to a particular age group, using the MAX() function."
      ]
    },
    {
      "cell_type": "code",
      "metadata": {
        "id": "a8od2GqS11CN",
        "colab_type": "code",
        "colab": {}
      },
      "source": [
        "student_details = LOAD '/user/dataenggdatascfreelance1247/pig_data/student_details.txt' USING PigStorage(',') AS (id:int, firstname:chararray, lastname:chararray, age:int, phone:chararray, city:chararray, gpa:int);\n",
        "\n",
        "student_group_by_age = Group student_details BY age;\n",
        "DUMP student_group_by_age;\n",
        "\n",
        "student_gpa_max_by_age = foreach student_group_by_age  Generate group,MAX(student_details.gpa);\n",
        "DUMP student_gpa_max_by_age;"
      ],
      "execution_count": 0,
      "outputs": []
    },
    {
      "cell_type": "markdown",
      "metadata": {
        "id": "zX_uePke33fz",
        "colab_type": "text"
      },
      "source": [
        "### Calculating the Minimum GPA agewise"
      ]
    },
    {
      "cell_type": "code",
      "metadata": {
        "id": "VaJrxZ5E35y2",
        "colab_type": "code",
        "colab": {}
      },
      "source": [
        "student_details = LOAD '/user/dataenggdatascfreelance1247/pig_data/student_details.txt' USING PigStorage(',') AS (id:int, firstname:chararray, lastname:chararray, age:int, phone:chararray, city:chararray, gpa:int);\n",
        "\n",
        "student_group_by_age = Group student_details BY age;\n",
        "DUMP student_group_by_age;\n",
        "\n",
        "student_gpa_min_by_age = foreach student_group_by_age  Generate group,MIN(student_details.gpa);\n",
        "DUMP student_gpa_min_by_age;"
      ],
      "execution_count": 0,
      "outputs": []
    },
    {
      "cell_type": "markdown",
      "metadata": {
        "id": "D1arcpT14Tiu",
        "colab_type": "text"
      },
      "source": [
        "## SUBTRACT()\n",
        "\n",
        "SUBTRACT() function is used to subtract two bags. It takes two bags as inputs and returns a bag which contains the tuples of the first bag that are not in the second bag.\n",
        "\n",
        "- Group the records/tuples of the relations emp_sales and emp_bonus with the key sno, using the COGROUP operator as shown below.\n",
        "- Subtract the tuples of emp_bonus relation from emp_sales relation. The resulting relation holds the tuples of emp_sales that are not there in emp_bonus.\n",
        "- Also, Subtract the tuples of emp_sales relation from emp_bonus relation. The resulting relation holds the tuples of emp_bonus that are not there in emp_sales."
      ]
    },
    {
      "cell_type": "code",
      "metadata": {
        "id": "-tfkmoyz4jL-",
        "colab_type": "code",
        "colab": {}
      },
      "source": [
        "emp_sales = LOAD '/user/dataenggdatascfreelance1247/pig_data/emp_sales.txt' USING PigStorage(',') AS (sno:int, name:chararray, age:int, salary:int, dept:chararray);\n",
        "\t\n",
        "emp_bonus = LOAD '/user/dataenggdatascfreelance1247/pig_data/emp_bonus.txt' USING PigStorage(',') AS (sno:int, name:chararray, age:int, salary:int, dept:chararray);\n",
        "\n",
        "cogroup_data = COGROUP emp_sales by sno, emp_bonus by sno;\n",
        "DUMP cogroup_data;\n",
        "\n",
        "sub_data = FOREACH cogroup_data GENERATE SUBTRACT(emp_sales, emp_bonus);\n",
        "DUMP sub_data;\n",
        "\n",
        "sub_data2 = FOREACH cogroup_data GENERATE SUBTRACT(emp_bonus, emp_sales);\n",
        "DUMP sub_data2;"
      ],
      "execution_count": 0,
      "outputs": []
    },
    {
      "cell_type": "markdown",
      "metadata": {
        "id": "0ZNDDxii6e7L",
        "colab_type": "text"
      },
      "source": [
        "## SUM()\n",
        "\n",
        "Get the total of the numeric values of a column in a single-column bag. While computing the total, the SUM() function ignores the NULL values.\n",
        "\n",
        "- To get the global sum value, we need to perform a Group All operation, and calculate the sum value using the SUM() function.\n",
        "\n",
        "- To get the sum value of a group, we need to group it using the Group By operator and proceed with the sum function.\n",
        "\n",
        "### Calculating the Sum of all pages typed daily by ALL employees\n",
        "To calculate the total number of pages typed daily of all the employees, group the relation employee_data using the Group All operator. Then calculate the global sum of the pages typed daily."
      ]
    },
    {
      "cell_type": "code",
      "metadata": {
        "id": "vzP3vSge6hME",
        "colab_type": "code",
        "colab": {}
      },
      "source": [
        "employee_data = LOAD '/user/dataenggdatascfreelance1247/pig_data/employee2.txt' USING PigStorage(',') AS (id:int, name:chararray, workdate:chararray, daily_typing_pages:int);\n",
        "\n",
        "employee_group = Group employee_data all;\n",
        "DUMP employee_group;\n",
        "\n",
        "pages_typed_total_all_emp = foreach employee_group Generate SUM(employee_data.daily_typing_pages);\n",
        "DUMP pages_typed_total_all_emp;"
      ],
      "execution_count": 0,
      "outputs": []
    },
    {
      "cell_type": "markdown",
      "metadata": {
        "id": "s2MKO-sf8u0b",
        "colab_type": "text"
      },
      "source": [
        "### Calculating the Sum of all pages typed daily by each employees \n",
        "To calculate the total number of pages typed daily of each employees, group the relation employee_data using the id key. Then calculate the sum of the pages typed daily grouped by the key."
      ]
    },
    {
      "cell_type": "code",
      "metadata": {
        "id": "8pdiZAGM8tyx",
        "colab_type": "code",
        "colab": {}
      },
      "source": [
        "employee_data = LOAD '/user/dataenggdatascfreelance1247/pig_data/employee2.txt' USING PigStorage(',') AS (id:int, name:chararray, workdate:chararray, daily_typing_pages:int);\n",
        "\n",
        "employee_group_by_id = Group employee_data BY id;\n",
        "DUMP employee_group_by_id;\n",
        "\n",
        "pages_typed_total_by_id = foreach employee_group_by_id Generate group,SUM(employee_data.daily_typing_pages);\n",
        "DUMP pages_typed_total_by_id;"
      ],
      "execution_count": 0,
      "outputs": []
    },
    {
      "cell_type": "markdown",
      "metadata": {
        "id": "838XTTUuBLYV",
        "colab_type": "text"
      },
      "source": [
        "## String Functions\n",
        "\n",
        "### ENDSWITH()\n",
        "Verify whether the first string ends with the second string."
      ]
    },
    {
      "cell_type": "code",
      "metadata": {
        "id": "luB2Jel3BVfg",
        "colab_type": "code",
        "colab": {}
      },
      "source": [
        "employee_data = LOAD '/user/dataenggdatascfreelance1247/pig_data/employee2.txt' USING PigStorage(',') AS (id:int, name:chararray, workdate:chararray, daily_typing_pages:int);\n",
        "\n",
        "emp_endswith = FOREACH employee_data GENERATE (id,name),ENDSWITH ( name, 'n' );\n",
        "DUMP emp_endswith;"
      ],
      "execution_count": 0,
      "outputs": []
    },
    {
      "cell_type": "markdown",
      "metadata": {
        "id": "RNuok7iFB4-A",
        "colab_type": "text"
      },
      "source": [
        "### STARTSWITH()\n",
        "\n",
        "Verifies whether the first string starts with the second."
      ]
    },
    {
      "cell_type": "code",
      "metadata": {
        "id": "fD6j96W8B71l",
        "colab_type": "code",
        "colab": {}
      },
      "source": [
        "employee_data = LOAD '/user/dataenggdatascfreelance1247/pig_data/employee2.txt' USING PigStorage(',') AS (id:int, name:chararray, workdate:chararray, daily_typing_pages:int);\n",
        "\n",
        "emp_startswith = FOREACH employee_data GENERATE (id,name),STARTSWITH ( name, 'J' );\n",
        "DUMP emp_startswith;"
      ],
      "execution_count": 0,
      "outputs": []
    },
    {
      "cell_type": "markdown",
      "metadata": {
        "id": "NmWJIVqTCU6m",
        "colab_type": "text"
      },
      "source": [
        "### SUBSTRING()\n",
        "\n",
        "Returns a substring from the given string."
      ]
    },
    {
      "cell_type": "code",
      "metadata": {
        "id": "SgadcPKCCXzf",
        "colab_type": "code",
        "colab": {}
      },
      "source": [
        "employee_data = LOAD '/user/dataenggdatascfreelance1247/pig_data/employee2.txt' USING PigStorage(',') AS (id:int, name:chararray, workdate:chararray, daily_typing_pages:int);\n",
        "\n",
        "substring_data = FOREACH employee_data GENERATE (id,name), SUBSTRING (name, 0, 2);\n",
        "DUMP substring_data;"
      ],
      "execution_count": 0,
      "outputs": []
    },
    {
      "cell_type": "markdown",
      "metadata": {
        "id": "ZXTJD1aKEBqI",
        "colab_type": "text"
      },
      "source": [
        "###INDEXOF()\n",
        "\n",
        "Accepts a string value, a character and an index (integer). It returns the first occurrence of the given character in the string, searching forward from the given index.\n",
        "- If the string doesn’t contain the character, it returns the value -1"
      ]
    },
    {
      "cell_type": "code",
      "metadata": {
        "id": "a1UNFYBlEDGW",
        "colab_type": "code",
        "colab": {}
      },
      "source": [
        "employee_data = LOAD '/user/dataenggdatascfreelance1247/pig_data/employee2.txt' USING PigStorage(',') as (id:int, name:chararray, workdate:chararray, daily_typing_pages:int);\n",
        "\n",
        "indexof_data = FOREACH employee_data GENERATE (id,name), INDEXOF(name, 'r',0);\n",
        "DUMP indexof_data;"
      ],
      "execution_count": 0,
      "outputs": []
    },
    {
      "cell_type": "markdown",
      "metadata": {
        "id": "AUXxCZtME_aB",
        "colab_type": "text"
      },
      "source": [
        "### UPPER() / LOWER()\n",
        "\n",
        "Convert all the characters in a string to uppercase/lowercase."
      ]
    },
    {
      "cell_type": "code",
      "metadata": {
        "id": "aYAoXuTSFA8J",
        "colab_type": "code",
        "colab": {}
      },
      "source": [
        "employee_data = LOAD '/user/dataenggdatascfreelance1247/pig_data/employee2.txt' USING PigStorage(',') AS (id:int, name:chararray, workdate:chararray, daily_typing_pages:int);\n",
        "\n",
        "upper_data = FOREACH employee_data GENERATE (id,name), UPPER(name);\n",
        "DUMP upper_data;\n",
        "\n",
        "lower_data = FOREACH employee_data GENERATE (id,name), LOWER(name);\n",
        "DUMP lower_data;"
      ],
      "execution_count": 0,
      "outputs": []
    },
    {
      "cell_type": "markdown",
      "metadata": {
        "id": "t3eUe3HUF8Vz",
        "colab_type": "text"
      },
      "source": [
        "### REPLACE()\n",
        "\n",
        "Replace all the characters in a given string with the new characters."
      ]
    },
    {
      "cell_type": "code",
      "metadata": {
        "id": "fnZpZfKxF9Oq",
        "colab_type": "code",
        "colab": {}
      },
      "source": [
        "student = LOAD '/user/dataenggdatascfreelance1247/pig_data/student_details.txt' USING PigStorage(',') AS (id:int, fname:chararray, lname:chararray, age:int, phone:chararray, city:chararray, gpa:int);\n",
        "\n",
        "replace_data = FOREACH student GENERATE (id,city),REPLACE(city,'Chennai','CHN');\n",
        "DUMP replace_data;"
      ],
      "execution_count": 0,
      "outputs": []
    },
    {
      "cell_type": "markdown",
      "metadata": {
        "id": "N_wAAcYpHpOi",
        "colab_type": "text"
      },
      "source": [
        "### TRIM()\n",
        "\n",
        "Accepts a string and returns its copy after removing the unwanted spaces before and after it."
      ]
    },
    {
      "cell_type": "code",
      "metadata": {
        "id": "GQGQxmKfHrkP",
        "colab_type": "code",
        "colab": {}
      },
      "source": [
        "emp_data_with_spaces = LOAD '/user/dataenggdatascfreelance1247/pig_data/emp_data_with_spaces.txt' USING PigStorage(',') AS (id:int, name:chararray, age:int, city:chararray);\n",
        "DUMP emp_data_with_spaces;\n",
        "\n",
        "trim_data = FOREACH emp_data_with_spaces GENERATE (id,name), TRIM(name);\n",
        "DUMP trim_data;"
      ],
      "execution_count": 0,
      "outputs": []
    },
    {
      "cell_type": "markdown",
      "metadata": {
        "id": "mCzcSsA5JKrq",
        "colab_type": "text"
      },
      "source": [
        "## Date-time Functions\n",
        "\n",
        "### ToDate()\n",
        "Use the ToDate function to generate a DateTime object. Syntax are -  \n",
        "\n",
        "ToDate(milliseconds)\\\n",
        "ToDate(iosstring)\\\n",
        "ToDate(userstring, format)\\\n",
        "ToDate(userstring, format, timezone)\n",
        "\n",
        "\n"
      ]
    },
    {
      "cell_type": "code",
      "metadata": {
        "id": "JHUrKHEB-MWk",
        "colab_type": "code",
        "colab": {}
      },
      "source": [
        "date_data = LOAD '/user/dataenggdatascfreelance1247/pig_data/date.txt' USING PigStorage(',') AS (id:int,date:chararray);\n",
        "DUMP date_data;\n",
        "\n",
        "todate_data = FOREACH date_data GENERATE ToDate(date,'yyyy/MM/dd HH:mm:ss');\n",
        "DUMP todate_data;"
      ],
      "execution_count": 0,
      "outputs": []
    },
    {
      "cell_type": "markdown",
      "metadata": {
        "id": "4GYnl0ABA9Nz",
        "colab_type": "text"
      },
      "source": [
        "### CurrentTime()\n",
        " generate DateTime object of the current time."
      ]
    },
    {
      "cell_type": "code",
      "metadata": {
        "id": "JvLxSZN-BA7q",
        "colab_type": "code",
        "colab": {}
      },
      "source": [
        "date_data = LOAD '/user/dataenggdatascfreelance1247/pig_data/date.txt' USING PigStorage(',') AS (id:int,date:chararray);\n",
        "DUMP date_data;\n",
        "\n",
        "currenttime_data = FOREACH date_data GENERATE id,date,CurrentTime();\n",
        "DUMP currenttime_data;"
      ],
      "execution_count": 0,
      "outputs": []
    },
    {
      "cell_type": "markdown",
      "metadata": {
        "id": "Mh0tXO8aCHFC",
        "colab_type": "text"
      },
      "source": [
        "### GetDay()\n",
        "\n",
        "This function accepts a date-time object as a parameter and returns the current day of the given date-time object."
      ]
    },
    {
      "cell_type": "code",
      "metadata": {
        "id": "1eV8aA-_CMEJ",
        "colab_type": "code",
        "colab": {}
      },
      "source": [
        "date_data = LOAD '/user/dataenggdatascfreelance1247/pig_data/date.txt' USING PigStorage(',') AS (id:int,date:chararray);\n",
        "DUMP date_data;\n",
        "\n",
        "todate_data = FOREACH date_data GENERATE ToDate(date,'yyyy/MM/dd HH:mm:ss') AS (date_time:DateTime);\n",
        "getday_data = FOREACH todate_data GENERATE(date_time), GetDay(date_time);\n",
        "DUMP getday_data;"
      ],
      "execution_count": 0,
      "outputs": []
    },
    {
      "cell_type": "markdown",
      "metadata": {
        "id": "aU5J5ou_DzHD",
        "colab_type": "text"
      },
      "source": [
        "### GetHour()\n",
        "\n",
        "This function accepts a date-time object as parameter and returns the current hour of the current day of a given date-time object."
      ]
    },
    {
      "cell_type": "code",
      "metadata": {
        "id": "0vPc8HZ7D0AC",
        "colab_type": "code",
        "colab": {}
      },
      "source": [
        "date_data = LOAD '/user/dataenggdatascfreelance1247/pig_data/date.txt' USING PigStorage(',') AS (id:int,date:chararray);\n",
        "DUMP date_data;\n",
        "\n",
        "todate_data = FOREACH date_data GENERATE ToDate(date,'yyyy/MM/dd HH:mm:ss') AS (date_time:DateTime);\n",
        "gethour_data = FOREACH todate_data GENERATE(date_time), GetHour(date_time);\n",
        "DUMP gethour_data;"
      ],
      "execution_count": 0,
      "outputs": []
    },
    {
      "cell_type": "markdown",
      "metadata": {
        "id": "Z0DWdH3RHonR",
        "colab_type": "text"
      },
      "source": [
        "### GetMonth()\n",
        "\n",
        "This function accepts a date-time object as a parameter and returns the current month of the current year from the given date-time object."
      ]
    },
    {
      "cell_type": "code",
      "metadata": {
        "id": "vS-nvhLCHrgY",
        "colab_type": "code",
        "colab": {}
      },
      "source": [
        "date_data = LOAD '/user/dataenggdatascfreelance1247/pig_data/date.txt' USING PigStorage(',') AS (id:int,date:chararray);\n",
        "DUMP date_data;\n",
        "\n",
        "todate_data = FOREACH date_data GENERATE ToDate(date,'yyyy/MM/dd HH:mm:ss') AS (date_time:DateTime);\n",
        "getmonth_data = FOREACH todate_data GENERATE(date_time), GetMonth(date_time);\n",
        "DUMP getmonth_data;"
      ],
      "execution_count": 0,
      "outputs": []
    },
    {
      "cell_type": "markdown",
      "metadata": {
        "id": "TIoyLBi4IBD_",
        "colab_type": "text"
      },
      "source": [
        "### GetYear()\n",
        "\n",
        "This function accepts a date-time object as parameter and returns the current year from the given date-time object."
      ]
    },
    {
      "cell_type": "code",
      "metadata": {
        "id": "eq-qum5LIEty",
        "colab_type": "code",
        "colab": {}
      },
      "source": [
        "date_data = LOAD '/user/dataenggdatascfreelance1247/pig_data/date.txt' USING PigStorage(',') AS (id:int,date:chararray);\n",
        "DUMP date_data;\n",
        "\n",
        "todate_data = FOREACH date_data GENERATE ToDate(date,'yyyy/MM/dd HH:mm:ss') AS (date_time:DateTime);\n",
        "getyear_data = FOREACH todate_data GENERATE(date_time), GetYear(date_time);\n",
        "DUMP getyear_data;"
      ],
      "execution_count": 0,
      "outputs": []
    },
    {
      "cell_type": "markdown",
      "metadata": {
        "id": "EUzw7rURIbfF",
        "colab_type": "text"
      },
      "source": [
        "### AddDuration()\n",
        "\n",
        "- This function accepts a date-time object and a duration objects, and adds the given duration to the date-time object and returns a new date-time object with added duration.\n",
        "\n",
        "- The Duration is represented in ISO 8601 standard. According to ISO 8601 standard P is placed at the beginning, while representing the duration and it is called as duration designator. Likewise,\n",
        "\n",
        "Y is the year designator. We use this after declaring the year.\n",
        "\n",
        "Example − P1Y represents 1 year.\n",
        "\n",
        "M is the month designator. We use this after declaring the month.\n",
        "\n",
        "Example − P1M represents 1 month.\n",
        "\n",
        "W is the week designator. We use this after declaring the week.\n",
        "\n",
        "Example − P1W represents 1 week.\n",
        "\n",
        "D is the day designator. We use this after declaring the day.\n",
        "\n",
        "Example − P1D represents 1 day.\n",
        "\n",
        "T is the time designator. We use this before declaring the time.\n",
        "\n",
        "Example − PT5H represents 5 hours.\n",
        "\n",
        "H is the hour designator. We use this after declaring the hour.\n",
        "\n",
        "Example − PT1H represents 1 hour.\n",
        "\n",
        "M is the minute designator. We use this after declaring the minute.\n",
        "\n",
        "Example − PT1M represents 1 minute.\n",
        "\n",
        "S is the second designator. We use this after declaring the second.\n",
        "\n",
        "Example − PT1S represents 1 second."
      ]
    },
    {
      "cell_type": "code",
      "metadata": {
        "id": "Rg1oiOsxIe44",
        "colab_type": "code",
        "colab": {}
      },
      "source": [
        "date_data = LOAD '/user/dataenggdatascfreelance1247/pig_data/date.txt' USING PigStorage(',') AS (id:int,date:chararray);\n",
        "DUMP date_data;\n",
        "\n",
        "add_year_data = FOREACH date_data GENERATE(date), AddDuration(ToDate(date,'yyyy/MM/dd HH:mm:ss'),'P1Y');\n",
        "DUMP add_year_data;\n",
        "\n",
        "add_day_data = FOREACH date_data GENERATE(date), AddDuration(ToDate(date,'yyyy/MM/dd HH:mm:ss'),'P1D');\n",
        "DUMP add_day_data;\n",
        "\n",
        "add_hour_data = FOREACH date_data GENERATE(date), AddDuration(ToDate(date,'yyyy/MM/dd HH:mm:ss'),'PT1H');\n",
        "DUMP add_hour_data;\n"
      ],
      "execution_count": 0,
      "outputs": []
    },
    {
      "cell_type": "markdown",
      "metadata": {
        "id": "d591JR9aK29Z",
        "colab_type": "text"
      },
      "source": [
        "### SubtractDuration()\n",
        "\n",
        "This function accepts a date-time object and a duration objects, and subtract the given duration to the date-time object and returns a new date-time object."
      ]
    },
    {
      "cell_type": "code",
      "metadata": {
        "id": "BH6-WakYK9QQ",
        "colab_type": "code",
        "colab": {}
      },
      "source": [
        "date_data = LOAD '/user/dataenggdatascfreelance1247/pig_data/date.txt' USING PigStorage(',') AS (id:int,date:chararray);\n",
        "DUMP date_data;\n",
        "\n",
        "subtract_day_data = FOREACH date_data GENERATE(date), SubtractDuration(ToDate(date,'yyyy/MM/dd HH:mm:ss'),'P3D');\n",
        "DUMP subtract_day_data;"
      ],
      "execution_count": 0,
      "outputs": []
    },
    {
      "cell_type": "markdown",
      "metadata": {
        "id": "GOS-fXuvLOoq",
        "colab_type": "text"
      },
      "source": [
        "### DaysBetween()\n",
        "\n",
        "This function accepts two date-time objects and calculates the number of days between the two given date-time objects."
      ]
    },
    {
      "cell_type": "code",
      "metadata": {
        "id": "6vucg7ONLWFZ",
        "colab_type": "code",
        "colab": {}
      },
      "source": [
        "doj_dob_data = LOAD '/user/dataenggdatascfreelance1247/pig_data/doj_dob.txt' USING PigStorage(',') AS (id:int, dob:chararray, doj:chararray);\n",
        "dump doj_dob_data;\n",
        "\n",
        "daysbetween_data = FOREACH doj_dob_data GENERATE DaysBetween(ToDate(doj,'dd/MM/yyyy HH:mm:ss'),ToDate(dob,'dd/MM/yyyy HH:mm:ss'));\n",
        "dump daysbetween_data;\n"
      ],
      "execution_count": 0,
      "outputs": []
    },
    {
      "cell_type": "markdown",
      "metadata": {
        "id": "szeHEmShMdYn",
        "colab_type": "text"
      },
      "source": [
        "## YearsBetween()\n",
        "\n",
        "This function accepts two date-time objects and calculates the number of years between the two given date-time objects."
      ]
    },
    {
      "cell_type": "code",
      "metadata": {
        "id": "KQcbAuRmMgbl",
        "colab_type": "code",
        "colab": {}
      },
      "source": [
        "doj_dob_data = LOAD '/user/dataenggdatascfreelance1247/pig_data/doj_dob.txt' USING PigStorage(',') AS (id:int, dob:chararray, doj:chararray);\n",
        "DUMP doj_dob_data;\n",
        "\n",
        "yearsbetween_data = FOREACH doj_dob_data GENERATE YearsBetween(ToDate(doj,'dd/MM/yyyy HH:mm:ss'),ToDate(dob,'dd/MM/yyyy HH:mm:ss'));\n",
        "DUMP yearsbetween_data;"
      ],
      "execution_count": 0,
      "outputs": []
    },
    {
      "cell_type": "markdown",
      "metadata": {
        "id": "s5CxHD_-MyVk",
        "colab_type": "text"
      },
      "source": [
        "## Math Functions\n",
        "\n",
        "### ABS()\n",
        "\n",
        "The ABS() function of Pig Latin is used to calculate the absolute value of a given expression."
      ]
    },
    {
      "cell_type": "code",
      "metadata": {
        "id": "LD7hsqbIRwO5",
        "colab_type": "code",
        "colab": {}
      },
      "source": [
        "math_data = LOAD '/user/dataenggdatascfreelance1247/pig_data/math.txt' USING PigStorage(',') AS (data:float);\n",
        "DUMP math_data;\n",
        "\n",
        "abs_data = FOREACH math_data GENERATE (data), ABS(data);\n",
        "DUMP abs_data;"
      ],
      "execution_count": 0,
      "outputs": []
    },
    {
      "cell_type": "markdown",
      "metadata": {
        "id": "xLrSAaS3UUwU",
        "colab_type": "text"
      },
      "source": [
        "### CBRT()\n",
        "\n",
        "The CBRT() function of Pig Latin is used to calculate the cube root of a given expression."
      ]
    },
    {
      "cell_type": "code",
      "metadata": {
        "id": "-W_XEpBZUXt_",
        "colab_type": "code",
        "colab": {}
      },
      "source": [
        "math_data = LOAD '/user/dataenggdatascfreelance1247/pig_data/math.txt' USING PigStorage(',') AS (data:float);\n",
        "DUMP math_data;\n",
        "\n",
        "cbrt_data = FOREACH math_data GENERATE (data), CBRT(data);\n",
        "DUMP cbrt_data;"
      ],
      "execution_count": 0,
      "outputs": []
    },
    {
      "cell_type": "markdown",
      "metadata": {
        "id": "clAr47ekUsbl",
        "colab_type": "text"
      },
      "source": [
        "### CEIL()\n",
        "\n",
        "CEIL() function is used to calculate value of a given expression rounded up to the nearest integer."
      ]
    },
    {
      "cell_type": "code",
      "metadata": {
        "id": "OxXEa2HrUvWw",
        "colab_type": "code",
        "colab": {}
      },
      "source": [
        "math_data = LOAD '/user/dataenggdatascfreelance1247/pig_data/math.txt' USING PigStorage(',') AS (data:float);\n",
        "DUMP math_data;\n",
        "\n",
        "ceil_data = FOREACH math_data GENERATE (data), CEIL(data);\n",
        "DUMP ceil_data;"
      ],
      "execution_count": 0,
      "outputs": []
    },
    {
      "cell_type": "markdown",
      "metadata": {
        "id": "EbVEcAHaVHsr",
        "colab_type": "text"
      },
      "source": [
        "### FLOOR()\n",
        "\n",
        "The FLOOR() function is used to calculate the value of an expression rounded down to the nearest integer Here is the syntax of the FLOOR() function."
      ]
    },
    {
      "cell_type": "code",
      "metadata": {
        "id": "R1Q267B6VLN0",
        "colab_type": "code",
        "colab": {}
      },
      "source": [
        "math_data = LOAD '/user/dataenggdatascfreelance1247/pig_data/math.txt' USING PigStorage(',') AS (data:float);\n",
        "DUMP math_data;\n",
        "\n",
        "floor_data  = FOREACH math_data GENERATE (data), FLOOR(data);\n",
        "DUMP floor_data;"
      ],
      "execution_count": 0,
      "outputs": []
    },
    {
      "cell_type": "markdown",
      "metadata": {
        "id": "RALntB2zVXQF",
        "colab_type": "text"
      },
      "source": [
        "### EXP()\n",
        "\n",
        "The EXP() function of Pig Latin is used to get the Euler’s number e raised to the power of x (given expression)."
      ]
    },
    {
      "cell_type": "code",
      "metadata": {
        "id": "xTM57n_tVZw1",
        "colab_type": "code",
        "colab": {}
      },
      "source": [
        "math_data = LOAD '/user/dataenggdatascfreelance1247/pig_data/math.txt' USING PigStorage(',') AS (data:float);\n",
        "DUMP math_data;\n",
        "\n",
        "exp_data  = FOREACH math_data GENERATE (data), EXP(data);\n",
        "DUMP exp_data;"
      ],
      "execution_count": 0,
      "outputs": []
    },
    {
      "cell_type": "markdown",
      "metadata": {
        "id": "pP7CMw_tWA86",
        "colab_type": "text"
      },
      "source": [
        "### RANDOM()\n",
        "\n",
        "The RANDOM() function is used to get a pseudo random number (type double) greater than or equal to 0.0 and less than 1.0."
      ]
    },
    {
      "cell_type": "code",
      "metadata": {
        "id": "9mUEsiz9WKOJ",
        "colab_type": "code",
        "colab": {}
      },
      "source": [
        "math_data = LOAD '/user/dataenggdatascfreelance1247/pig_data/math.txt' USING PigStorage(',') AS (data:float);\n",
        "DUMP math_data;\n",
        "\n",
        "random_data = FOREACH math_data GENERATE (data), RANDOM();\n",
        "DUMP random_data;"
      ],
      "execution_count": 0,
      "outputs": []
    },
    {
      "cell_type": "markdown",
      "metadata": {
        "id": "DgdHT_K5Wfey",
        "colab_type": "text"
      },
      "source": [
        "### ROUND()\n",
        "\n",
        "The ROUND() function is used to get the value of an expression rounded to an integer (if the result type is float) or rounded to a long (if the result type is double)."
      ]
    },
    {
      "cell_type": "code",
      "metadata": {
        "id": "CxxmBepIWiO3",
        "colab_type": "code",
        "colab": {}
      },
      "source": [
        "math_data = LOAD '/user/dataenggdatascfreelance1247/pig_data/math.txt' USING PigStorage(',') AS (data:float);\n",
        "DUMP math_data;\n",
        "\n",
        "round_data = FOREACH math_data GENERATE (data), ROUND(data);\n",
        "DUMP round_data;"
      ],
      "execution_count": 0,
      "outputs": []
    },
    {
      "cell_type": "markdown",
      "metadata": {
        "id": "REkxeznPXB60",
        "colab_type": "text"
      },
      "source": [
        "## User Defined Functions\n",
        "\n",
        "- In addition to the built-in functions, we can define our own functions and use them, using these UDF’s. Moreover, in six programming languages, UDF support is available. Such as Java, Jython, Python, JavaScript, Ruby, and Groovy.\n",
        "\n",
        "- Complete support is only provided in Java. While in all the remaining languages limited support is provide\n",
        "\n",
        "- **We have a Java repository for UDF’s named Piggybank, in Apache Pig. Basically, we can access Java UDF’s written by other users, and contribute our own UDF’s, using Piggybank.**"
      ]
    },
    {
      "cell_type": "markdown",
      "metadata": {
        "id": "OkTvqdTVZOWc",
        "colab_type": "text"
      },
      "source": [
        "### Define python function"
      ]
    },
    {
      "cell_type": "code",
      "metadata": {
        "id": "FmI7U3DMXv8e",
        "colab_type": "code",
        "colab": {}
      },
      "source": [
        "from pig_util import outputSchema\n",
        "\n",
        "@outputSchema(\"as:int\")\n",
        "def square(num):\n",
        "  if num == None:\n",
        "    return None\n",
        "  return ((num) * (num))\n",
        "\n",
        "@outputSchema(\"word:chararray\")\n",
        "def concat(word):\n",
        "  return word + word"
      ],
      "execution_count": 0,
      "outputs": []
    },
    {
      "cell_type": "markdown",
      "metadata": {
        "id": "PMmqloxGZVcS",
        "colab_type": "text"
      },
      "source": [
        "###Register the Python script as shown here"
      ]
    },
    {
      "cell_type": "code",
      "metadata": {
        "id": "KKXI99IkZey6",
        "colab_type": "code",
        "colab": {}
      },
      "source": [
        "REGISTER 'pig_udf.py' USING jython AS myfunc;"
      ],
      "execution_count": 0,
      "outputs": []
    },
    {
      "cell_type": "markdown",
      "metadata": {
        "id": "isXGHKoBaenY",
        "colab_type": "text"
      },
      "source": [
        "### Call the UDF from Pig Latin"
      ]
    },
    {
      "cell_type": "code",
      "metadata": {
        "id": "CoqcTh62ai1U",
        "colab_type": "code",
        "colab": {}
      },
      "source": [
        "student = LOAD '/user/dataenggdatascfreelance1247/pig_data/student_details.txt' USING PigStorage(',') AS (id:int, fname:chararray, lname:chararray, age:int, phone:chararray, city:chararray, gpa:int);\n",
        "DUMP student;\n",
        "\n",
        "udf_out = FOREACH student GENERATE myfunc.concat(fname), myfunc.square(age);\n",
        "DUMP udf_out;"
      ],
      "execution_count": 0,
      "outputs": []
    }
  ]
}