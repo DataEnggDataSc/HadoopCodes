{
  "nbformat": 4,
  "nbformat_minor": 0,
  "metadata": {
    "colab": {
      "name": "Sqoop Import.ipynb",
      "provenance": []
    },
    "kernelspec": {
      "name": "python3",
      "display_name": "Python 3"
    }
  },
  "cells": [
    {
      "cell_type": "markdown",
      "metadata": {
        "id": "PCYy80Tsbx_G",
        "colab_type": "text"
      },
      "source": [
        "## Basic sqoop import Command"
      ]
    },
    {
      "cell_type": "code",
      "metadata": {
        "id": "z4uK_i-Rbekn",
        "colab_type": "code",
        "colab": {}
      },
      "source": [
        "sqoop import \\\n",
        "--connect jdbc:mysql://ip-172-31-20-247/sqoopex \\\n",
        "--username sqoopuser \\\n",
        "--password NHkkP876rp \\\n",
        "--table user \\\n",
        "--target-dir sqoop_import_dir"
      ],
      "execution_count": 0,
      "outputs": []
    },
    {
      "cell_type": "markdown",
      "metadata": {
        "id": "mUo_XgHHbiLC",
        "colab_type": "text"
      },
      "source": [
        "1. Target-dir must not exist beforehand. If it exists, the command while fail with the same error. \n",
        "2. This command will create the directory while sqooping, then would put the table data inside this directory as part files. \n",
        "3. There would be no subfolder created inside target-dir with the table name, datafiles would be put directly inside target-dir."
      ]
    },
    {
      "cell_type": "markdown",
      "metadata": {
        "id": "PJncxBbih8NF",
        "colab_type": "text"
      },
      "source": [
        "If target-dir is not provided, sqoop will create a directory in the current working directory with the same name as table name."
      ]
    },
    {
      "cell_type": "code",
      "metadata": {
        "id": "wIdkGVmeb9jt",
        "colab_type": "code",
        "colab": {}
      },
      "source": [
        "sqoop import \\\n",
        "--connect jdbc:mysql://ip-172-31-20-247/sqoopex \\\n",
        "--username sqoopuser \\\n",
        "--password NHkkP876rp \\\n",
        "--table user"
      ],
      "execution_count": 0,
      "outputs": []
    },
    {
      "cell_type": "markdown",
      "metadata": {
        "id": "yWOFkEg6cJl1",
        "colab_type": "text"
      },
      "source": [
        "## Controlling Parellelism\n",
        "\n",
        "1. To leverage parallelism, we need to provide number of mappers in the import command. There would be that many parallel imports executed, as mentioned in the --num-mappers parameter. \n",
        "2. That many number of part files would get created as there are number of mappers mentioned in the sqoop import command"
      ]
    },
    {
      "cell_type": "code",
      "metadata": {
        "id": "vLaTanRDcLIH",
        "colab_type": "code",
        "colab": {}
      },
      "source": [
        "sqoop import \\\n",
        "--connect jdbc:mysql://ip-172-31-20-247/sqoopex \\\n",
        "--username sqoopuser \\\n",
        "--password NHkkP876rp \\\n",
        "--table user \\\n",
        "--target-dir sqoop_import_dir\n",
        "--num-mappers 3"
      ],
      "execution_count": 0,
      "outputs": []
    },
    {
      "cell_type": "markdown",
      "metadata": {
        "id": "YF2q1vTbhuGa",
        "colab_type": "text"
      },
      "source": [
        ""
      ]
    },
    {
      "cell_type": "code",
      "metadata": {
        "id": "X32KusY4hvBU",
        "colab_type": "code",
        "colab": {}
      },
      "source": [
        ""
      ],
      "execution_count": 0,
      "outputs": []
    }
  ]
}